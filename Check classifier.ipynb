{
 "cells": [
  {
   "cell_type": "code",
   "execution_count": 2,
   "metadata": {},
   "outputs": [],
   "source": [
    "# Load new atlas\n",
    "import os\n",
    "from os.path import join as pjoin\n",
    "import numpy as np\n",
    "# from dipy.io.streamline import load_trk\n",
    "\n",
    "fname = 'hcp842_80_atlas.npz'\n",
    "f = np.load(fname, allow_pickle=1)\n",
    "atlas = f['atlas']\n",
    "labels = f['labels']\n",
    "label_names = f['label_names']\n",
    "hierarchy = f['hierarchy']\n",
    "\n",
    "fname = 'hcp842_80_centroids.npz'\n",
    "f = np.load(fname, allow_pickle=1)\n",
    "centroids = f['atlas']\n",
    "clabels = f['labels']"
   ]
  },
  {
   "cell_type": "code",
   "execution_count": 3,
   "metadata": {},
   "outputs": [
    {
     "data": {
      "text/plain": [
       "array(['', 'AC', 'AF_L', 'AF_R', 'AR_L', 'AR_R', 'AST_L', 'AST_R', 'CB_L',\n",
       "       'CB_R', 'CC', 'CC_ForcepsMajor', 'CC_ForcepsMinor', 'CC_Mid',\n",
       "       'CNIII_L', 'CNIII_R', 'CNII_L', 'CNII_R', 'CNIV_L', 'CNIV_R',\n",
       "       'CNVIII_L', 'CNVIII_R', 'CNVII_L', 'CNVII_R', 'CNV_L', 'CNV_R',\n",
       "       'CST_L', 'CST_R', 'CS_L', 'CS_R', 'CTT_L', 'CTT_R', 'CT_L', 'CT_R',\n",
       "       'C_L', 'C_R', 'DLF_L', 'DLF_R', 'EMC_L', 'EMC_R', 'FPT_L', 'FPT_R',\n",
       "       'F_L_R', 'ICP_L', 'ICP_R', 'IFOF_L', 'IFOF_R', 'ILF_L', 'ILF_R',\n",
       "       'LL_L', 'LL_R', 'MCP', 'MLF_L', 'MLF_R', 'ML_L', 'ML_R', 'MdLF_L',\n",
       "       'MdLF_R', 'OPT_L', 'OPT_R', 'OR_L', 'OR_R', 'PC', 'PPT_L', 'PPT_R',\n",
       "       'RST_L', 'RST_R', 'SCP', 'SLF_L', 'SLF_R', 'STT_L', 'STT_R',\n",
       "       'TPT_L', 'TPT_R', 'UF_L', 'UF_R', 'V', 'VOF_L', 'VOF_R'],\n",
       "      dtype='<U15')"
      ]
     },
     "execution_count": 3,
     "metadata": {},
     "output_type": "execute_result"
    }
   ],
   "source": [
    "label_names"
   ]
  },
  {
   "cell_type": "code",
   "execution_count": 4,
   "metadata": {},
   "outputs": [],
   "source": [
    "#centroids = centroids.reshape((-1, 5, 2))"
   ]
  },
  {
   "cell_type": "code",
   "execution_count": 5,
   "metadata": {},
   "outputs": [
    {
     "name": "stdout",
     "output_type": "stream",
     "text": [
      "1690\n",
      "1642\n",
      "4822\n"
     ]
    }
   ],
   "source": [
    "from fury import actor, window\n",
    "\n",
    "scene = window.Scene()\n",
    "\n",
    "L = label_names.tolist().index('MCP')\n",
    "lines = atlas[labels==L]\n",
    "print(len(lines))\n",
    "if len(lines)>0:\n",
    "    scene.add(actor.line(lines, colors=[[1,1,0]]*len(lines),\n",
    "                         linewidth=3, fake_tube=True, depth_cue=True,\n",
    "                         opacity = 0.5))\n",
    "\n",
    "L = label_names.tolist().index('EMC_L')\n",
    "lines = atlas[labels==L]\n",
    "print(len(lines))\n",
    "if len(lines)>0:\n",
    "    scene.add(actor.line(lines, colors=[[0,1,1]]*len(lines),\n",
    "                         linewidth=3, fake_tube=True, depth_cue=True,\n",
    "                         opacity = 0.5))\n",
    "    \n",
    "lines = atlas[::30]\n",
    "print(len(lines))\n",
    "if len(lines)>0:\n",
    "    scene.add(actor.line(lines, colors=[[1,1,1]]*len(lines),\n",
    "                         linewidth=3, fake_tube=True, depth_cue=True,\n",
    "                         opacity = 0.1))\n",
    "    \n",
    "# L = label_names.tolist().index('CC_Mid')\n",
    "# lines = atlas[labels==L]\n",
    "# print(len(lines))\n",
    "# if len(lines)>0:\n",
    "#     scene.add(actor.line(lines, colors=[[1,1,0]]*len(lines),\n",
    "#                          linewidth=3, fake_tube=True, depth_cue=True,\n",
    "#                          opacity = 0.5))\n",
    "\n",
    "    \n",
    "# L = label_names.tolist().index('CC')\n",
    "# lines = atlas[labels==L]\n",
    "# print(len(lines))\n",
    "# if len(lines)>0:\n",
    "#     scene.add(actor.line(lines, colors=[[0,1,0]]*len(lines),\n",
    "#                          linewidth=3, fake_tube=True, depth_cue=True,\n",
    "#                          opacity = 0.5))\n",
    "    \n",
    "# lines = final_fibers[centroid_ixs]\n",
    "# if len(lines)>0:\n",
    "#     scene.add(actor.line(lines, colors=[0,1,0], opacity = 0.5))\n",
    "\n",
    "# for i in range(1, len(label_names)):\n",
    "#     if '_R' in label_names[i]:\n",
    "#         lines = final_fibers[final_labels==i]\n",
    "#         color = np.random.rand(3)\n",
    "#         #color /= np.linalg.norm(color)\n",
    "#         if len(lines)>0:\n",
    "#             scene.add(actor.line(lines, colors=color, opacity = 0.5))\n",
    "\n",
    "window.show(scene)"
   ]
  },
  {
   "cell_type": "code",
   "execution_count": null,
   "metadata": {},
   "outputs": [],
   "source": [
    "from collections import Counter\n",
    "{label_names[k]: v for k, v in Counter(clabels).items()}"
   ]
  },
  {
   "cell_type": "code",
   "execution_count": null,
   "metadata": {},
   "outputs": [],
   "source": [
    "# from catboost import CatBoostClassifier\n",
    "# model = CatBoostClassifier(task_type='GPU')\n",
    "# model.load_model('atlas.cbm')"
   ]
  },
  {
   "cell_type": "code",
   "execution_count": null,
   "metadata": {},
   "outputs": [],
   "source": [
    "from classibundler import classify\n",
    "from dipy.tracking.streamline import set_number_of_points\n",
    "NF = 5  #len(model.feature_names_) // 3\n",
    "fibers = np.reshape(set_number_of_points([*atlas], NF), (-1, NF*3))\n",
    "#prediction = model.predict(data).flatten()\n",
    "prediction, is_reversed = classify(\n",
    "    fibers, centroids, clabels, threshold=30)"
   ]
  },
  {
   "cell_type": "code",
   "execution_count": null,
   "metadata": {},
   "outputs": [],
   "source": [
    "# Check model accuracey vs model size\n",
    "# N = np.exp(np.arange(30, 101) * (np.log(5000)/100)).astype(int)[::-1]\n",
    "# score_nocc, score_all = [], []\n",
    "\n",
    "# for n in N:\n",
    "#     if n < model.tree_count_:\n",
    "#         model.shrink(n)\n",
    "#     prediction = model.predict(data).flatten()\n",
    "#     ixs = labels!=10\n",
    "#     score_nocc.append(np.mean(prediction[ixs]==labels[ixs]))\n",
    "#     score_all.append(np.mean(prediction==labels))\n",
    "\n",
    "# import matplotlib.pyplot as plt\n",
    "# plt.semilogx(N, 1-np.array(score_nocc))\n",
    "# plt.semilogx(N, 1-np.array(score_all))\n",
    "# plt.ylim([0, 0.02])\n",
    "# plt.grid()\n",
    "\n",
    "# model.shrink(1024)\n",
    "# model.save_model('atlas.cbm')"
   ]
  },
  {
   "cell_type": "code",
   "execution_count": null,
   "metadata": {},
   "outputs": [],
   "source": [
    "print('label %iou     gt  dtctd  correct')\n",
    "NL = len(label_names)\n",
    "for l in range(NL):\n",
    "    detected = np.sum(prediction==l)\n",
    "    correct = np.sum((prediction==l) & (labels==l))\n",
    "    gt = np.sum(labels==l)\n",
    "    iou = correct / (detected + gt - correct)\n",
    "    print(f'{l:2}   {iou:.3f}  {gt:5}  {detected:5}  {correct:5}  {label_names[l]}')"
   ]
  },
  {
   "cell_type": "code",
   "execution_count": null,
   "metadata": {},
   "outputs": [],
   "source": [
    "from collections import Counter\n",
    "l = label_names.tolist().index('AST_L')\n",
    "cnt_gt = Counter(prediction[labels==l])\n",
    "cnt_rc = Counter(labels[prediction==l])\n",
    "print('Predicted:', {label_names[k]: v for k, v in cnt_gt.most_common(10)})\n",
    "print('Selected: ', {label_names[k]: v for k, v in cnt_rc.most_common(10)})"
   ]
  },
  {
   "cell_type": "code",
   "execution_count": null,
   "metadata": {},
   "outputs": [],
   "source": [
    "from scipy.spatial.distance import cdist, pdist\n",
    "AST_L = label_names.tolist().index('AST_L')\n",
    "AST_L_ixs = np.where(labels==AST_L)[0]\n",
    "z_ixs = np.where(labels==0)\n",
    "A = pdist(fibers[AST_L_ixs].reshape((-1, 15)))\n",
    "Z = pdist(fibers[z_ixs].reshape((-1, 15)))\n",
    "AZ = cdist(fibers[AST_L_ixs].reshape((-1, 15)),\n",
    "           fibers[z_ixs].reshape((-1, 15)))"
   ]
  },
  {
   "cell_type": "code",
   "execution_count": null,
   "metadata": {},
   "outputs": [],
   "source": [
    "import matplotlib.pyplot as plt\n",
    "plt.figure(figsize=(20, 15))\n",
    "plt.hist(AZ.flatten(), bins=300, histtype='step')\n",
    "# plt.hist(Z.flatten(), bins=100, histtype='step')\n",
    "plt.hist(A.flatten(), bins=100, histtype='step')\n",
    "plt.grid()"
   ]
  },
  {
   "cell_type": "code",
   "execution_count": null,
   "metadata": {},
   "outputs": [],
   "source": [
    "def export_as_obj(fibers, l_shift=0):\n",
    "    strings = [\n",
    "        f'v {v[0]:.6g} {v[1]:.6g} {v[2]:.6g}'\n",
    "        for f in fibers\n",
    "        for v in f\n",
    "    ]\n",
    "    i = 1 + l_shift\n",
    "    for f in fibers:\n",
    "        strings.append('l ' + ' '.join(map(str, range(i, i+len(f)))))\n",
    "        i += len(f)\n",
    "    return strings"
   ]
  },
  {
   "cell_type": "code",
   "execution_count": null,
   "metadata": {},
   "outputs": [],
   "source": [
    "parts = []\n",
    "l_shift = 0\n",
    "\n",
    "for name in ['', 'UF_L', 'UF_R', 'IFOF_L', 'IFOF_R']:\n",
    "    parts.append(f'o {name}')\n",
    "    L = label_names.tolist().index(name)\n",
    "    ixs = centroid_ixs[labels[centroid_ixs] == L]\n",
    "#     A = fibers[ixs].reshape((-1, 5, 3))\n",
    "    A = atlas[ixs]\n",
    "    parts.extend(export_as_obj(A, l_shift))\n",
    "    parts.append(f'\\n')\n",
    "    l_shift += sum(map(len, A))\n",
    "    print(name, fibers[ixs].reshape((-1, 5, 3)).mean(1).mean(0))\n",
    "\n",
    "with open('fibers.obj', 'wt') as f:\n",
    "    f.write('\\n'.join(parts))"
   ]
  },
  {
   "cell_type": "code",
   "execution_count": null,
   "metadata": {},
   "outputs": [],
   "source": [
    "from fury import actor, window\n",
    "\n",
    "scene = window.Scene()\n",
    "\n",
    "#scene.add(actor.line(atlas[::10], colors=[1]*3, opacity = 0.05))\n",
    "\n",
    "ixs = centroid_ixs[labels[centroid_ixs] == 0]\n",
    "# lines = fibers[ixs].reshape((-1, 5, 3))\n",
    "lines = atlas[ixs]\n",
    "if len(lines)>0:\n",
    "    scene.add(actor.line(lines, colors=[[1,1,1]]*len(lines), opacity = 0.5))\n",
    "\n",
    "L = label_names.tolist().index('UF_L')\n",
    "ixs = centroid_ixs[labels[centroid_ixs] == L]\n",
    "lines = atlas[ixs]\n",
    "if len(lines)>0:\n",
    "    scene.add(actor.line(lines, colors=[[0,1,0]]*len(lines), opacity = 0.5))\n",
    "\n",
    "L = label_names.tolist().index('UF_R')\n",
    "ixs = centroid_ixs[labels[centroid_ixs] == L]\n",
    "lines = atlas[ixs]\n",
    "if len(lines)>0:\n",
    "    scene.add(actor.line(lines, colors=[[0,.5,1]]*len(lines), opacity = 0.5))\n",
    "    \n",
    "L = label_names.tolist().index('IFOF_R')\n",
    "ixs = centroid_ixs[labels[centroid_ixs] == L]\n",
    "lines = atlas[ixs]\n",
    "if len(lines)>0:\n",
    "    scene.add(actor.line(lines, colors=[[1,0,1]]*len(lines), opacity = 0.5))\n",
    "    \n",
    "L = label_names.tolist().index('IFOF_L')\n",
    "ixs = centroid_ixs[labels[centroid_ixs] == L]\n",
    "lines = atlas[ixs]\n",
    "if len(lines)>0:\n",
    "    scene.add(actor.line(lines, colors=[[1,.5,0]]*len(lines), opacity = 0.5))\n",
    "\n",
    "# lines = final_fibers[centroid_ixs]\n",
    "# if len(lines)>0:\n",
    "#     scene.add(actor.line(lines, colors=[0,1,0], opacity = 0.5))\n",
    "\n",
    "# for i in range(1, len(label_names)):\n",
    "#     if '_R' in label_names[i]:\n",
    "#         lines = final_fibers[final_labels==i]\n",
    "#         color = np.random.rand(3)\n",
    "#         #color /= np.linalg.norm(color)\n",
    "#         if len(lines)>0:\n",
    "#             scene.add(actor.line(lines, colors=color, opacity = 0.5))\n",
    "\n",
    "window.show(scene)"
   ]
  },
  {
   "cell_type": "code",
   "execution_count": null,
   "metadata": {},
   "outputs": [],
   "source": [
    "from fury import actor, window\n",
    "\n",
    "scene = window.Scene()\n",
    "\n",
    "#scene.add(actor.line(atlas[::10], colors=[1]*3, opacity = 0.05))\n",
    "\n",
    "i = label_names.tolist().index('UF_L')\n",
    "\n",
    "lines = atlas[(labels==i) & (prediction!=i)]\n",
    "if len(lines)>0:\n",
    "    scene.add(actor.line(lines, colors=[1, 0, 0], opacity = 0.5))\n",
    "\n",
    "lines = atlas[(labels==i) & (prediction==i)]\n",
    "if len(lines)>0:\n",
    "    scene.add(actor.line(lines, colors=[0, 1, 0], opacity = 0.5))\n",
    "\n",
    "lines = atlas[(labels!=i) & (prediction==i)]\n",
    "if len(lines)>0:\n",
    "    scene.add(actor.line(lines, colors=[0, 0.5, 1], opacity = 0.5))\n",
    "\n",
    "\n",
    "# lines = atlas[(labels==i)]\n",
    "# if len(lines)>0:\n",
    "#     scene.add(actor.line(lines, colors=[0, 1, 0], opacity = 0.5))\n",
    "\n",
    "# lines = atlas[(prediction==i)]\n",
    "# if len(lines)>0:\n",
    "#     scene.add(actor.line(lines, colors=[1, 0, 0], opacity = 0.5))\n",
    "    \n",
    "\n",
    "# i = label_names.tolist().index('CC_ForcepsMajor')\n",
    "# lines = atlas[labels==i][::30]\n",
    "# if len(lines)>0:\n",
    "#     scene.add(actor.line(lines, colors=[1, 0.5, 0], opacity = 1))\n",
    "\n",
    "# i = label_names.tolist().index('CC')\n",
    "# lines = atlas[labels==i][::30]\n",
    "# if len(lines)>0:\n",
    "#     scene.add(actor.line(lines, colors=[0, 1, 1], opacity = 0.5))\n",
    "\n",
    "# i = label_names.tolist().index('FPT_L')\n",
    "# lines = atlas[labels==i]\n",
    "# if len(lines)>0:\n",
    "#     scene.add(actor.line(lines, colors=[1, .5, 0], opacity = 0.5))\n",
    "\n",
    "# i = label_names.tolist().index('OPT_L')\n",
    "# lines = atlas[labels==i]\n",
    "# if len(lines)>0:\n",
    "#     scene.add(actor.line(lines, colors=[.5, .5, 0], opacity = 0.5))\n",
    "\n",
    "window.show(scene)"
   ]
  },
  {
   "cell_type": "code",
   "execution_count": null,
   "metadata": {},
   "outputs": [],
   "source": []
  }
 ],
 "metadata": {
  "kernelspec": {
   "display_name": "Python 3",
   "language": "python",
   "name": "python3"
  },
  "language_info": {
   "codemirror_mode": {
    "name": "ipython",
    "version": 3
   },
   "file_extension": ".py",
   "mimetype": "text/x-python",
   "name": "python",
   "nbconvert_exporter": "python",
   "pygments_lexer": "ipython3",
   "version": "3.8.10"
  }
 },
 "nbformat": 4,
 "nbformat_minor": 4
}
