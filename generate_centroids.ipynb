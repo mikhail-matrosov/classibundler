{
 "cells": [
  {
   "cell_type": "code",
   "execution_count": 1,
   "id": "83a2c481",
   "metadata": {},
   "outputs": [],
   "source": [
    "# Load new atlas\n",
    "import os\n",
    "from os.path import join as pjoin\n",
    "import numpy as np\n",
    "from classibundler import *\n",
    "\n",
    "fname = 'hcp842_80_atlas.npz'\n",
    "f = np.load(fname, allow_pickle=1)\n",
    "atlas = f['atlas']\n",
    "labels = f['labels']\n",
    "label_names = f['label_names']\n",
    "hierarchy = f['hierarchy']"
   ]
  },
  {
   "cell_type": "code",
   "execution_count": 3,
   "id": "c94048ce",
   "metadata": {},
   "outputs": [],
   "source": [
    "threshold = 7\n",
    "expand_threshold = 2\n",
    "NF = 5\n",
    "\n",
    "# Add X reflection\n",
    "atlas = np.array(set_number_of_points([*atlas], NF))\n",
    "atlas = np.concatenate((atlas, atlas * [-1, 1, 1])).reshape((-1, NF*3))"
   ]
  },
  {
   "cell_type": "code",
   "execution_count": 4,
   "id": "e9817868",
   "metadata": {},
   "outputs": [
    {
     "name": "stdout",
     "output_type": "stream",
     "text": [
      "'F_L_L' is not in list\n"
     ]
    }
   ],
   "source": [
    "labels_refl = np.arange(len(label_names))\n",
    "lns = label_names.tolist()\n",
    "for i, ln in enumerate(label_names):\n",
    "    try:\n",
    "        if ln.endswith('_R'):\n",
    "            labels_refl[i] = lns.index(ln[:-1] + 'L')\n",
    "        if ln.endswith('_L'):\n",
    "            labels_refl[i] = lns.index(ln[:-1] + 'R')\n",
    "    except Exception as e:\n",
    "        print(e)\n",
    "labels = np.concatenate((labels, labels_refl[labels]))"
   ]
  },
  {
   "cell_type": "code",
   "execution_count": 5,
   "id": "c75df6b4",
   "metadata": {},
   "outputs": [
    {
     "name": "stdout",
     "output_type": "stream",
     "text": [
      "0  - Finished reorienting at iteration 4\n",
      "1 AC - Finished reorienting at iteration 1\n",
      "8 CB_L - Finished reorienting at iteration 1\n",
      "9 CB_R - Finished reorienting at iteration 1\n",
      "10 CC - Finished reorienting at iteration 1\n",
      "11 CC_ForcepsMajor - Finished reorienting at iteration 1\n",
      "12 CC_ForcepsMinor - Finished reorienting at iteration 1\n",
      "13 CC_Mid - Finished reorienting at iteration 1\n",
      "22 CNVII_L - Finished reorienting at iteration 1\n",
      "23 CNVII_R - Finished reorienting at iteration 1\n",
      "28 CS_L - Finished reorienting at iteration 11\n",
      "29 CS_R - Finished reorienting at iteration 15\n",
      "32 CT_L - Finished reorienting at iteration 8\n",
      "33 CT_R - Finished reorienting at iteration 3\n",
      "35 C_R - Finished reorienting at iteration 2\n",
      "62 PC - Finished reorienting at iteration 1\n",
      "76 V - Finished reorienting at iteration 1\n"
     ]
    }
   ],
   "source": [
    "# Orient bundles\n",
    "reverser = np.arange(NF * 3).reshape((-1, 3))[::-1].flatten()\n",
    "\n",
    "for l, ln in enumerate(label_names):\n",
    "    bundle = atlas[labels == l]\n",
    "\n",
    "    for i in range(100):\n",
    "        stop_flag = True\n",
    "\n",
    "        # Find main direction\n",
    "        if i == 0:\n",
    "            sub = bundle[:len(bundle)//2]\n",
    "        else:\n",
    "            sub = bundle\n",
    "        \n",
    "        start = sub[:, :3].sum(axis=0)\n",
    "        end = sub[:, -3:].sum(axis=0)\n",
    "        main_dir = end - start\n",
    "\n",
    "        for f in bundle:\n",
    "            if np.dot(main_dir, f[-3:] - f[:3]) < 0:\n",
    "                f[:] = f[reverser]  # reverse fiber\n",
    "                stop_flag = False  # continue sorting\n",
    "\n",
    "        if stop_flag:\n",
    "            if i:\n",
    "                print(f'{l} {ln} - Finished reorienting at iteration {i}')\n",
    "            break"
   ]
  },
  {
   "cell_type": "code",
   "execution_count": null,
   "id": "8f9c1996",
   "metadata": {},
   "outputs": [
    {
     "name": "stdout",
     "output_type": "stream",
     "text": [
      "Iteration 0\n",
      "Iteration 1\n",
      "Iteration 2\n",
      "Iteration 3\n"
     ]
    }
   ],
   "source": [
    "for i in range(5):\n",
    "    print(f'Iteration {i}')\n",
    "    # Grab nearest neighbours from the garbage\n",
    "    result, is_reversed = classify(\n",
    "        atlas[labels==0], atlas[labels!=0], labels[labels!=0],\n",
    "        threshold=threshold)\n",
    "\n",
    "    if not np.any(result):\n",
    "        break\n",
    "    \n",
    "    # Assign new labels as detected\n",
    "    ixs = np.where(labels==0)[0][is_reversed]\n",
    "    if len(ixs):\n",
    "        # fibers[ixs] = fibers[ixs][::-1]\n",
    "        atlas[ixs] = atlas[ixs, ::-1]\n",
    "    labels[labels==0] = result"
   ]
  },
  {
   "cell_type": "code",
   "execution_count": null,
   "id": "431902fb",
   "metadata": {},
   "outputs": [],
   "source": [
    "def spill(fr, to):\n",
    "    print(f'Spilling {fr} to {to}')\n",
    "    result, is_reversed = classify(\n",
    "        atlas[labels==to], atlas[labels==fr], labels[labels==fr],\n",
    "        threshold=expand_threshold)\n",
    "    ixs = np.where(labels==to)[0][is_reversed]\n",
    "    if len(ixs):\n",
    "        # fibers[ixs] = fibers[ixs][::-1]\n",
    "        atlas[ixs] = atlas[ixs, ::-1]\n",
    "    # Assign a 'fr' label\n",
    "    labels[labels==to][result!=0] = fr\n",
    "\n",
    "ln = [*label_names]\n",
    "spill(ln.index('CC_ForcepsMajor'), ln.index('CC'))\n",
    "spill(ln.index('CC_ForcepsMinor'), ln.index('CC'))\n",
    "spill(ln.index('CC_Mid'), ln.index('CC'))"
   ]
  },
  {
   "cell_type": "code",
   "execution_count": null,
   "id": "e38c5c3c",
   "metadata": {},
   "outputs": [],
   "source": [
    "centroid_ixs = []\n",
    "\n",
    "for L in range(len(ln)):\n",
    "    b_ixs = np.where(labels==L)[0]\n",
    "#     np.random.shuffle(b_ixs)\n",
    "\n",
    "    # Reorder to have a ConvexHUll subset in the beginning\n",
    "    if len(b_ixs) > 3:\n",
    "        for i in [NF-1, NF//2, 0]:\n",
    "            try:\n",
    "                H = ConvexHull(atlas[b_ixs, i*3:i*3+3]).vertices\n",
    "                b_ixs[:len(H)], b_ixs[H] = b_ixs[H], b_ixs[:len(H)]\n",
    "            except QhullError as e:\n",
    "                print('QhullError', L, i)\n",
    "            except Exception as e:\n",
    "                print(L, i, e)\n",
    "\n",
    "    ixs = clusterize(atlas[b_ixs], threshold)\n",
    "    centroid_ixs.extend(b_ixs[ixs])"
   ]
  },
  {
   "cell_type": "code",
   "execution_count": null,
   "id": "72604a6e",
   "metadata": {},
   "outputs": [],
   "source": [
    "# Save\n",
    "fname = 'hcp842_80_centroids.npz'\n",
    "np.savez_compressed(fname,\n",
    "                    atlas=atlas[centroid_ixs],\n",
    "                    labels=labels[centroid_ixs],\n",
    "                    label_names=label_names,\n",
    "                    hierarchy=hierarchy)"
   ]
  },
  {
   "cell_type": "code",
   "execution_count": null,
   "id": "6a264309",
   "metadata": {},
   "outputs": [],
   "source": []
  }
 ],
 "metadata": {
  "kernelspec": {
   "display_name": "Python 3",
   "language": "python",
   "name": "python3"
  },
  "language_info": {
   "codemirror_mode": {
    "name": "ipython",
    "version": 3
   },
   "file_extension": ".py",
   "mimetype": "text/x-python",
   "name": "python",
   "nbconvert_exporter": "python",
   "pygments_lexer": "ipython3",
   "version": "3.8.10"
  }
 },
 "nbformat": 4,
 "nbformat_minor": 5
}
